{
 "cells": [
  {
   "cell_type": "markdown",
   "id": "c441e4ca",
   "metadata": {},
   "source": [
    "# Assignment 2\n",
    "* In this assignment you will be working with three data files from iMDB:\n",
    "    * cast.csv\n",
    "    * release_dates.csv\n",
    "    * titles.csv\n",
    "* Using the appropriate file(s), answer the following questions\n",
    "* Some questions can be completed with one-liners while others are a bit more involved\n",
    "* Where appropriate, answers should also provide brief commentary\n",
    "* Exclude data that doen't make senss, i.e. data from the future\n",
    "* Once complete upload this notebook to your classwork Github repo and post the link on Canvas "
   ]
  },
  {
   "cell_type": "code",
   "execution_count": 1,
   "id": "f4594546",
   "metadata": {},
   "outputs": [],
   "source": [
    "import numpy as np\n",
    "import pandas as pd\n",
    "import matplotlib.pyplot as plt"
   ]
  },
  {
   "cell_type": "code",
   "execution_count": 2,
   "id": "bf2624ef",
   "metadata": {},
   "outputs": [],
   "source": [
    "cast = pd.read_csv(\"Archive/cast.csv\")\n",
    "dates = pd.read_csv(\"Archive/release_dates.csv\")\n",
    "titles = pd.read_csv(\"Archive/titles.csv\")"
   ]
  },
  {
   "cell_type": "markdown",
   "id": "7f3efd04",
   "metadata": {},
   "source": [
    "### 1. Conduct a high level assessment of the three data files, i.e. how many records are there, what kind of data, etc. Summarize your findings with annotation. "
   ]
  },
  {
   "cell_type": "code",
   "execution_count": 27,
   "id": "ca8ef36d",
   "metadata": {},
   "outputs": [
    {
     "data": {
      "text/html": [
       "<div>\n",
       "<style scoped>\n",
       "    .dataframe tbody tr th:only-of-type {\n",
       "        vertical-align: middle;\n",
       "    }\n",
       "\n",
       "    .dataframe tbody tr th {\n",
       "        vertical-align: top;\n",
       "    }\n",
       "\n",
       "    .dataframe thead th {\n",
       "        text-align: right;\n",
       "    }\n",
       "</style>\n",
       "<table border=\"1\" class=\"dataframe\">\n",
       "  <thead>\n",
       "    <tr style=\"text-align: right;\">\n",
       "      <th></th>\n",
       "      <th>title</th>\n",
       "      <th>year</th>\n",
       "      <th>name</th>\n",
       "      <th>type</th>\n",
       "      <th>character</th>\n",
       "      <th>n</th>\n",
       "    </tr>\n",
       "  </thead>\n",
       "  <tbody>\n",
       "    <tr>\n",
       "      <th>0</th>\n",
       "      <td>Closet Monster</td>\n",
       "      <td>2015</td>\n",
       "      <td>Buffy #1</td>\n",
       "      <td>actor</td>\n",
       "      <td>Buffy 4</td>\n",
       "      <td>31.0</td>\n",
       "    </tr>\n",
       "    <tr>\n",
       "      <th>1</th>\n",
       "      <td>Suuri illusioni</td>\n",
       "      <td>1985</td>\n",
       "      <td>Homo $</td>\n",
       "      <td>actor</td>\n",
       "      <td>Guests</td>\n",
       "      <td>22.0</td>\n",
       "    </tr>\n",
       "    <tr>\n",
       "      <th>2</th>\n",
       "      <td>Battle of the Sexes</td>\n",
       "      <td>2017</td>\n",
       "      <td>$hutter</td>\n",
       "      <td>actor</td>\n",
       "      <td>Bobby Riggs Fan</td>\n",
       "      <td>10.0</td>\n",
       "    </tr>\n",
       "    <tr>\n",
       "      <th>3</th>\n",
       "      <td>Secret in Their Eyes</td>\n",
       "      <td>2015</td>\n",
       "      <td>$hutter</td>\n",
       "      <td>actor</td>\n",
       "      <td>2002 Dodger Fan</td>\n",
       "      <td>NaN</td>\n",
       "    </tr>\n",
       "    <tr>\n",
       "      <th>4</th>\n",
       "      <td>Steve Jobs</td>\n",
       "      <td>2015</td>\n",
       "      <td>$hutter</td>\n",
       "      <td>actor</td>\n",
       "      <td>1988 Opera House Patron</td>\n",
       "      <td>NaN</td>\n",
       "    </tr>\n",
       "  </tbody>\n",
       "</table>\n",
       "</div>"
      ],
      "text/plain": [
       "                  title  year      name   type                character     n\n",
       "0        Closet Monster  2015  Buffy #1  actor                  Buffy 4  31.0\n",
       "1       Suuri illusioni  1985    Homo $  actor                   Guests  22.0\n",
       "2   Battle of the Sexes  2017   $hutter  actor          Bobby Riggs Fan  10.0\n",
       "3  Secret in Their Eyes  2015   $hutter  actor          2002 Dodger Fan   NaN\n",
       "4            Steve Jobs  2015   $hutter  actor  1988 Opera House Patron   NaN"
      ]
     },
     "execution_count": 27,
     "metadata": {},
     "output_type": "execute_result"
    }
   ],
   "source": [
    "cast.head()"
   ]
  },
  {
   "cell_type": "code",
   "execution_count": 10,
   "id": "e822b354",
   "metadata": {},
   "outputs": [
    {
     "data": {
      "text/html": [
       "<div>\n",
       "<style scoped>\n",
       "    .dataframe tbody tr th:only-of-type {\n",
       "        vertical-align: middle;\n",
       "    }\n",
       "\n",
       "    .dataframe tbody tr th {\n",
       "        vertical-align: top;\n",
       "    }\n",
       "\n",
       "    .dataframe thead th {\n",
       "        text-align: right;\n",
       "    }\n",
       "</style>\n",
       "<table border=\"1\" class=\"dataframe\">\n",
       "  <thead>\n",
       "    <tr style=\"text-align: right;\">\n",
       "      <th></th>\n",
       "      <th>title</th>\n",
       "      <th>year</th>\n",
       "      <th>country</th>\n",
       "      <th>date</th>\n",
       "    </tr>\n",
       "  </thead>\n",
       "  <tbody>\n",
       "    <tr>\n",
       "      <th>0</th>\n",
       "      <td>#73, Shaanthi Nivaasa</td>\n",
       "      <td>2007</td>\n",
       "      <td>India</td>\n",
       "      <td>2007-06-15</td>\n",
       "    </tr>\n",
       "    <tr>\n",
       "      <th>1</th>\n",
       "      <td>#BKKY</td>\n",
       "      <td>2016</td>\n",
       "      <td>Cambodia</td>\n",
       "      <td>2017-10-12</td>\n",
       "    </tr>\n",
       "    <tr>\n",
       "      <th>2</th>\n",
       "      <td>#Beings</td>\n",
       "      <td>2015</td>\n",
       "      <td>Romania</td>\n",
       "      <td>2015-01-29</td>\n",
       "    </tr>\n",
       "    <tr>\n",
       "      <th>3</th>\n",
       "      <td>#Captured</td>\n",
       "      <td>2017</td>\n",
       "      <td>USA</td>\n",
       "      <td>2017-09-05</td>\n",
       "    </tr>\n",
       "    <tr>\n",
       "      <th>4</th>\n",
       "      <td>#Ewankosau saranghaeyo</td>\n",
       "      <td>2015</td>\n",
       "      <td>Philippines</td>\n",
       "      <td>2015-01-21</td>\n",
       "    </tr>\n",
       "  </tbody>\n",
       "</table>\n",
       "</div>"
      ],
      "text/plain": [
       "                    title  year      country        date\n",
       "0   #73, Shaanthi Nivaasa  2007        India  2007-06-15\n",
       "1                   #BKKY  2016     Cambodia  2017-10-12\n",
       "2                 #Beings  2015      Romania  2015-01-29\n",
       "3               #Captured  2017          USA  2017-09-05\n",
       "4  #Ewankosau saranghaeyo  2015  Philippines  2015-01-21"
      ]
     },
     "execution_count": 10,
     "metadata": {},
     "output_type": "execute_result"
    }
   ],
   "source": [
    "dates.head()"
   ]
  },
  {
   "cell_type": "code",
   "execution_count": 11,
   "id": "42b77202",
   "metadata": {},
   "outputs": [
    {
     "data": {
      "text/html": [
       "<div>\n",
       "<style scoped>\n",
       "    .dataframe tbody tr th:only-of-type {\n",
       "        vertical-align: middle;\n",
       "    }\n",
       "\n",
       "    .dataframe tbody tr th {\n",
       "        vertical-align: top;\n",
       "    }\n",
       "\n",
       "    .dataframe thead th {\n",
       "        text-align: right;\n",
       "    }\n",
       "</style>\n",
       "<table border=\"1\" class=\"dataframe\">\n",
       "  <thead>\n",
       "    <tr style=\"text-align: right;\">\n",
       "      <th></th>\n",
       "      <th>title</th>\n",
       "      <th>year</th>\n",
       "    </tr>\n",
       "  </thead>\n",
       "  <tbody>\n",
       "    <tr>\n",
       "      <th>0</th>\n",
       "      <td>Ankara ekspresi</td>\n",
       "      <td>1952</td>\n",
       "    </tr>\n",
       "    <tr>\n",
       "      <th>1</th>\n",
       "      <td>Ans Vaterland, ans teure</td>\n",
       "      <td>1915</td>\n",
       "    </tr>\n",
       "    <tr>\n",
       "      <th>2</th>\n",
       "      <td>Miss Mohini</td>\n",
       "      <td>2002</td>\n",
       "    </tr>\n",
       "    <tr>\n",
       "      <th>3</th>\n",
       "      <td>La vera madre</td>\n",
       "      <td>1999</td>\n",
       "    </tr>\n",
       "    <tr>\n",
       "      <th>4</th>\n",
       "      <td>O Amerikanos</td>\n",
       "      <td>1993</td>\n",
       "    </tr>\n",
       "  </tbody>\n",
       "</table>\n",
       "</div>"
      ],
      "text/plain": [
       "                      title  year\n",
       "0           Ankara ekspresi  1952\n",
       "1  Ans Vaterland, ans teure  1915\n",
       "2               Miss Mohini  2002\n",
       "3             La vera madre  1999\n",
       "4              O Amerikanos  1993"
      ]
     },
     "execution_count": 11,
     "metadata": {},
     "output_type": "execute_result"
    }
   ],
   "source": [
    "titles.head()"
   ]
  },
  {
   "cell_type": "code",
   "execution_count": 5,
   "id": "03bc8314",
   "metadata": {},
   "outputs": [
    {
     "name": "stdout",
     "output_type": "stream",
     "text": [
      "The cast data file has 3442902 records\n",
      "The release dates data file has 443486 records\n",
      "The titles data file has 226013 records\n"
     ]
    }
   ],
   "source": [
    "print(f'The cast data file has {len(cast)} records')\n",
    "print(f'The release dates data file has {len(dates)} records')\n",
    "print(f'The titles data file has {len(titles)} records')"
   ]
  },
  {
   "cell_type": "code",
   "execution_count": 6,
   "id": "e41aae91",
   "metadata": {},
   "outputs": [
    {
     "name": "stdout",
     "output_type": "stream",
     "text": [
      "<class 'pandas.core.frame.DataFrame'>\n",
      "RangeIndex: 3442902 entries, 0 to 3442901\n",
      "Data columns (total 6 columns):\n",
      " #   Column     Dtype  \n",
      "---  ------     -----  \n",
      " 0   title      object \n",
      " 1   year       int64  \n",
      " 2   name       object \n",
      " 3   type       object \n",
      " 4   character  object \n",
      " 5   n          float64\n",
      "dtypes: float64(1), int64(1), object(4)\n",
      "memory usage: 157.6+ MB\n"
     ]
    }
   ],
   "source": [
    "cast.info()"
   ]
  },
  {
   "cell_type": "code",
   "execution_count": 7,
   "id": "6ac7df93",
   "metadata": {},
   "outputs": [
    {
     "name": "stdout",
     "output_type": "stream",
     "text": [
      "<class 'pandas.core.frame.DataFrame'>\n",
      "RangeIndex: 443486 entries, 0 to 443485\n",
      "Data columns (total 4 columns):\n",
      " #   Column   Non-Null Count   Dtype \n",
      "---  ------   --------------   ----- \n",
      " 0   title    443486 non-null  object\n",
      " 1   year     443486 non-null  int64 \n",
      " 2   country  443486 non-null  object\n",
      " 3   date     443486 non-null  object\n",
      "dtypes: int64(1), object(3)\n",
      "memory usage: 13.5+ MB\n"
     ]
    }
   ],
   "source": [
    "dates.info()"
   ]
  },
  {
   "cell_type": "code",
   "execution_count": 8,
   "id": "d77fda2c",
   "metadata": {},
   "outputs": [
    {
     "name": "stdout",
     "output_type": "stream",
     "text": [
      "<class 'pandas.core.frame.DataFrame'>\n",
      "RangeIndex: 226013 entries, 0 to 226012\n",
      "Data columns (total 2 columns):\n",
      " #   Column  Non-Null Count   Dtype \n",
      "---  ------  --------------   ----- \n",
      " 0   title   226013 non-null  object\n",
      " 1   year    226013 non-null  int64 \n",
      "dtypes: int64(1), object(1)\n",
      "memory usage: 3.4+ MB\n"
     ]
    }
   ],
   "source": [
    "titles.info()"
   ]
  },
  {
   "cell_type": "markdown",
   "id": "cf28254a",
   "metadata": {},
   "source": [
    "The cast dataset has 3442902 observations and 6 variables. It contains information about the cast including the title of the movies, the year, the name of the actor, and the role and character in the movie. The dates file has 443486 records including the date, title of the movie, year, and country. The titles dataset contains 226013 movies including the title and the year of each movie."
   ]
  },
  {
   "cell_type": "markdown",
   "id": "8949aee1",
   "metadata": {},
   "source": [
    "### 2. How many movies have the title North by Northwest"
   ]
  },
  {
   "cell_type": "code",
   "execution_count": 35,
   "id": "712cba84",
   "metadata": {},
   "outputs": [
    {
     "data": {
      "text/plain": [
       "1"
      ]
     },
     "execution_count": 35,
     "metadata": {},
     "output_type": "execute_result"
    }
   ],
   "source": [
    "titles[titles['title'].str.contains(\"North by Northwest\")].shape[0]"
   ]
  },
  {
   "cell_type": "markdown",
   "id": "651191f3",
   "metadata": {},
   "source": [
    "### 3. How many version of Hamlet are there, when was the first made? the last?"
   ]
  },
  {
   "cell_type": "code",
   "execution_count": 43,
   "id": "dcad5d91",
   "metadata": {},
   "outputs": [
    {
     "data": {
      "text/plain": [
       "55"
      ]
     },
     "execution_count": 43,
     "metadata": {},
     "output_type": "execute_result"
    }
   ],
   "source": [
    "titles[titles['title'].str.contains(\"Hamlet\")].shape[0]"
   ]
  },
  {
   "cell_type": "code",
   "execution_count": 41,
   "id": "1e421672",
   "metadata": {},
   "outputs": [
    {
     "data": {
      "text/plain": [
       "1910"
      ]
     },
     "execution_count": 41,
     "metadata": {},
     "output_type": "execute_result"
    }
   ],
   "source": [
    "titles[titles['title'].str.contains(\"Hamlet\")]['year'].min()"
   ]
  },
  {
   "cell_type": "code",
   "execution_count": 42,
   "id": "8197e139",
   "metadata": {},
   "outputs": [
    {
     "data": {
      "text/plain": [
       "2018"
      ]
     },
     "execution_count": 42,
     "metadata": {},
     "output_type": "execute_result"
    }
   ],
   "source": [
    "titles[titles['title'].str.contains(\"Hamlet\")]['year'].max()"
   ]
  },
  {
   "cell_type": "markdown",
   "id": "5650b610",
   "metadata": {},
   "source": [
    "### 4. List all the movies called Treasure Island from oldest to newest"
   ]
  },
  {
   "cell_type": "code",
   "execution_count": 44,
   "id": "636611d9",
   "metadata": {},
   "outputs": [
    {
     "data": {
      "text/html": [
       "<div>\n",
       "<style scoped>\n",
       "    .dataframe tbody tr th:only-of-type {\n",
       "        vertical-align: middle;\n",
       "    }\n",
       "\n",
       "    .dataframe tbody tr th {\n",
       "        vertical-align: top;\n",
       "    }\n",
       "\n",
       "    .dataframe thead th {\n",
       "        text-align: right;\n",
       "    }\n",
       "</style>\n",
       "<table border=\"1\" class=\"dataframe\">\n",
       "  <thead>\n",
       "    <tr style=\"text-align: right;\">\n",
       "      <th></th>\n",
       "      <th>title</th>\n",
       "      <th>year</th>\n",
       "    </tr>\n",
       "  </thead>\n",
       "  <tbody>\n",
       "    <tr>\n",
       "      <th>180911</th>\n",
       "      <td>Treasure Island</td>\n",
       "      <td>1918</td>\n",
       "    </tr>\n",
       "    <tr>\n",
       "      <th>108853</th>\n",
       "      <td>Treasure Island</td>\n",
       "      <td>1920</td>\n",
       "    </tr>\n",
       "    <tr>\n",
       "      <th>87953</th>\n",
       "      <td>Treasure Island</td>\n",
       "      <td>1934</td>\n",
       "    </tr>\n",
       "    <tr>\n",
       "      <th>126321</th>\n",
       "      <td>Treasure Island</td>\n",
       "      <td>1950</td>\n",
       "    </tr>\n",
       "    <tr>\n",
       "      <th>190233</th>\n",
       "      <td>Treasure Island</td>\n",
       "      <td>1972</td>\n",
       "    </tr>\n",
       "    <tr>\n",
       "      <th>122150</th>\n",
       "      <td>Treasure Island</td>\n",
       "      <td>1973</td>\n",
       "    </tr>\n",
       "    <tr>\n",
       "      <th>52099</th>\n",
       "      <td>Treasure Island</td>\n",
       "      <td>1985</td>\n",
       "    </tr>\n",
       "    <tr>\n",
       "      <th>36752</th>\n",
       "      <td>Treasure Island</td>\n",
       "      <td>1999</td>\n",
       "    </tr>\n",
       "  </tbody>\n",
       "</table>\n",
       "</div>"
      ],
      "text/plain": [
       "                  title  year\n",
       "180911  Treasure Island  1918\n",
       "108853  Treasure Island  1920\n",
       "87953   Treasure Island  1934\n",
       "126321  Treasure Island  1950\n",
       "190233  Treasure Island  1972\n",
       "122150  Treasure Island  1973\n",
       "52099   Treasure Island  1985\n",
       "36752   Treasure Island  1999"
      ]
     },
     "execution_count": 44,
     "metadata": {},
     "output_type": "execute_result"
    }
   ],
   "source": [
    "titles[titles['title'] == 'Treasure Island'].sort_values(by='year')"
   ]
  },
  {
   "cell_type": "markdown",
   "id": "a94f4524",
   "metadata": {},
   "source": [
    "### 5. How many movies were made in 1950? 1980? 2000? What conclusions can you draw from these data points?"
   ]
  },
  {
   "cell_type": "code",
   "execution_count": 51,
   "id": "8d44bdb2",
   "metadata": {},
   "outputs": [
    {
     "name": "stdout",
     "output_type": "stream",
     "text": [
      "There were 1109 movies made in 1950, 1750 in 1980, and 2568 in 2000\n"
     ]
    }
   ],
   "source": [
    "movies_1950 = titles[titles['year'] == 1950].shape[0]\n",
    "movies_1980 = titles[titles['year'] == 1980].shape[0]\n",
    "movies_2000 = titles[titles['year'] == 2000].shape[0]\n",
    "\n",
    "print(f'There were {movies_1950} movies made in 1950, {movies_1980} in 1980, and {movies_2000} in 2000')"
   ]
  },
  {
   "cell_type": "markdown",
   "id": "8dd90bd3",
   "metadata": {},
   "source": [
    "Given the numbers, it is clear that the number of movies made between 1950 and 2000 has significantly increased. Several factors could contribute to the increase in movie production. These may include advancements in technology, such as the availability of more affordable filming equipment and digital filmmaking, as well as changes in distribution channels, such as the rise of streaming platforms. Additionally, increased globalization and access to international markets may have also fueled the growth in movie production."
   ]
  },
  {
   "cell_type": "markdown",
   "id": "0c34799c",
   "metadata": {},
   "source": [
    "### 6. How big was the cast of Metropolis\n"
   ]
  },
  {
   "cell_type": "code",
   "execution_count": 53,
   "id": "4461cc46",
   "metadata": {},
   "outputs": [
    {
     "data": {
      "text/plain": [
       "31"
      ]
     },
     "execution_count": 53,
     "metadata": {},
     "output_type": "execute_result"
    }
   ],
   "source": [
    "cast[cast['title'] == 'Metropolis']['name'].nunique()"
   ]
  },
  {
   "cell_type": "markdown",
   "id": "7dead3d7",
   "metadata": {},
   "source": [
    "### 7. How many roles for actors were there 1950's? 1990's"
   ]
  },
  {
   "cell_type": "code",
   "execution_count": 58,
   "id": "9f7336d3",
   "metadata": {},
   "outputs": [
    {
     "data": {
      "text/plain": [
       "153559"
      ]
     },
     "execution_count": 58,
     "metadata": {},
     "output_type": "execute_result"
    }
   ],
   "source": [
    "cast[(cast['year'] >= 1950) & (cast['year'] < 1960) & (cast['type'] == 'actor')].shape[0]\n"
   ]
  },
  {
   "cell_type": "code",
   "execution_count": 59,
   "id": "3c70e9c2",
   "metadata": {},
   "outputs": [
    {
     "data": {
      "text/plain": [
       "245713"
      ]
     },
     "execution_count": 59,
     "metadata": {},
     "output_type": "execute_result"
    }
   ],
   "source": [
    "cast[(cast['year'] >= 1990) & (cast['year'] < 2000) & (cast['type'] == 'actor')].shape[0]"
   ]
  },
  {
   "cell_type": "markdown",
   "id": "3c5ad9f2",
   "metadata": {},
   "source": [
    "### 8. How many roles for actors & actresses over time? Output should be a line graph"
   ]
  },
  {
   "cell_type": "code",
   "execution_count": 60,
   "id": "a4401c78",
   "metadata": {},
   "outputs": [
    {
     "data": {
      "image/png": "[encoded data removed]",
      "text/plain": [
       "<Figure size 720x432 with 1 Axes>"
      ]
     },
     "metadata": {
      "needs_background": "light"
     },
     "output_type": "display_data"
    }
   ],
   "source": [
    "roles_over_time = cast.groupby(['year', 'type']).size().unstack()\n",
    "\n",
    "# Plot the line graph\n",
    "roles_over_time.plot(kind='line', figsize=(10, 6))\n",
    "plt.title('Number of Roles for Actors & Actresses Over Time')\n",
    "plt.xlabel('Year')\n",
    "plt.ylabel('Number of Roles')\n",
    "plt.legend(title='Type')\n",
    "plt.grid(True)\n",
    "plt.show()"
   ]
  },
  {
   "cell_type": "markdown",
   "id": "5e3a04c7",
   "metadata": {},
   "source": [
    "### 9. How many \"leading roles\" were there in the 2000's?"
   ]
  },
  {
   "cell_type": "code",
   "execution_count": 70,
   "id": "01cc5e7f",
   "metadata": {},
   "outputs": [
    {
     "data": {
      "text/plain": [
       "23593"
      ]
     },
     "execution_count": 70,
     "metadata": {},
     "output_type": "execute_result"
    }
   ],
   "source": [
    "cast[(cast['year'] >= 2000) & (cast['year'] < 2010) & (cast['n'] == 1)].shape[0]"
   ]
  },
  {
   "cell_type": "markdown",
   "id": "a60c91b4",
   "metadata": {},
   "source": [
    "### 10. How many roles received no ranking in the 2000's? 1950's. What conclusions can you draw from these two data points?"
   ]
  },
  {
   "cell_type": "code",
   "execution_count": 73,
   "id": "4b729250",
   "metadata": {},
   "outputs": [
    {
     "data": {
      "text/plain": [
       "232037"
      ]
     },
     "execution_count": 73,
     "metadata": {},
     "output_type": "execute_result"
    }
   ],
   "source": [
    "cast[(cast['year'] >= 2000) & (cast['year'] < 2010) & cast['n'].isna()].shape[0]"
   ]
  },
  {
   "cell_type": "code",
   "execution_count": 74,
   "id": "e67e0b6b",
   "metadata": {},
   "outputs": [
    {
     "data": {
      "text/plain": [
       "95406"
      ]
     },
     "execution_count": 74,
     "metadata": {},
     "output_type": "execute_result"
    }
   ],
   "source": [
    "cast[(cast['year'] >= 1950) & (cast['year'] < 1960) & cast['n'].isna()].shape[0]"
   ]
  },
  {
   "cell_type": "markdown",
   "id": "72baaf65",
   "metadata": {},
   "source": [
    "In the 2000's, there were 232037 roles that received no ranking and 95406 roles that received no ranking in the 1950's. The significantly higher number of roles with no ranking in the 2000s compared to the 1950s suggests a potential shift in role attribution practices over time. It could also indicate a broader diversity of roles or a greater complexity in character development. The higher number of roles with no ranking in the 2000s could reflect the overall growth and globalization of the film industry, reflecting a higher overall number of roles in the 2000's compared to the 1950's. "
   ]
  },
  {
   "cell_type": "markdown",
   "id": "33d9c249",
   "metadata": {},
   "source": [
    "### 11. Plot the number of films made in each decade"
   ]
  },
  {
   "cell_type": "code",
   "execution_count": 75,
   "id": "3f6c5b5a",
   "metadata": {},
   "outputs": [
    {
     "data": {
      "image/png": "[encoded data removed]",
      "text/plain": [
       "<Figure size 720x432 with 1 Axes>"
      ]
     },
     "metadata": {
      "needs_background": "light"
     },
     "output_type": "display_data"
    }
   ],
   "source": [
    "titles['decade'] = (titles['year'] // 10) * 10\n",
    "\n",
    "films_per_decade = titles.groupby('decade').size()\n",
    "\n",
    "films_per_decade.plot(kind='bar', figsize=(10, 6))\n",
    "plt.title('Number of Films Made in Each Decade')\n",
    "plt.xlabel('Decade')\n",
    "plt.ylabel('Number of Films')\n",
    "plt.xticks(rotation=45)\n",
    "plt.grid(axis='y')\n",
    "plt.show()"
   ]
  },
  {
   "cell_type": "markdown",
   "id": "7b8b93e3",
   "metadata": {},
   "source": [
    "### 12. Plot the number of films with a Rustler character over time"
   ]
  },
  {
   "cell_type": "code",
   "execution_count": 76,
   "id": "ed1bce02",
   "metadata": {},
   "outputs": [
    {
     "data": {
      "image/png": "[encoded data removed]",
      "text/plain": [
       "<Figure size 720x432 with 1 Axes>"
      ]
     },
     "metadata": {
      "needs_background": "light"
     },
     "output_type": "display_data"
    }
   ],
   "source": [
    "rustler_films = cast[cast['character'] == 'Rustler']\n",
    "\n",
    "# Group the data by year and count the number of films with the \"Rustler\" character\n",
    "rustler_films_over_time = rustler_films.groupby('year').size()\n",
    "\n",
    "rustler_films_over_time.plot(kind='line', figsize=(10, 6))\n",
    "plt.title('Number of Films with a \"Rustler\" Character Over Time')\n",
    "plt.xlabel('Year')\n",
    "plt.ylabel('Number of Films')\n",
    "plt.grid(True)\n",
    "plt.show()"
   ]
  },
  {
   "cell_type": "markdown",
   "id": "1df5a8a7",
   "metadata": {},
   "source": [
    "### 13. What are the top ten character names of all time?"
   ]
  },
  {
   "cell_type": "code",
   "execution_count": 81,
   "id": "0c130539",
   "metadata": {},
   "outputs": [
    {
     "data": {
      "text/plain": [
       "Himself        19637\n",
       "Dancer         12019\n",
       "Extra          10848\n",
       "Reporter        7818\n",
       "Doctor          6963\n",
       "Party Guest     6786\n",
       "Student         6631\n",
       "Policeman       6424\n",
       "Bartender       6290\n",
       "Herself         6269\n",
       "Name: character, dtype: int64"
      ]
     },
     "execution_count": 81,
     "metadata": {},
     "output_type": "execute_result"
    }
   ],
   "source": [
    "cast['character'].value_counts().head(10)"
   ]
  },
  {
   "cell_type": "markdown",
   "id": "febd5c97",
   "metadata": {},
   "source": [
    "### 14. Which actor appeared in the most films in the 1990's decade?"
   ]
  },
  {
   "cell_type": "code",
   "execution_count": 85,
   "id": "f827958d",
   "metadata": {},
   "outputs": [
    {
     "data": {
      "text/plain": [
       "'Shakti Kapoor'"
      ]
     },
     "execution_count": 85,
     "metadata": {},
     "output_type": "execute_result"
    }
   ],
   "source": [
    "cast[(cast['year'] >= 1990) & (cast['year'] < 2000)]['name'].value_counts().idxmax()"
   ]
  },
  {
   "cell_type": "markdown",
   "id": "b2d57a18",
   "metadata": {},
   "source": [
    "### 15. What are the top 10 roles that start with Science?"
   ]
  },
  {
   "cell_type": "code",
   "execution_count": 87,
   "id": "64b41362",
   "metadata": {},
   "outputs": [
    {
     "name": "stdout",
     "output_type": "stream",
     "text": [
      "Top 10 roles that start with 'Science':\n",
      "Science Teacher         57\n",
      "Science Fair Student     9\n",
      "Science Student          6\n",
      "Science Fair Judge       6\n",
      "Science Kid              5\n",
      "Science Fair Kid         5\n",
      "Science Reporter         5\n",
      "Science                  4\n",
      "Science Officer          3\n",
      "Science teacher          3\n",
      "Name: character, dtype: int64\n"
     ]
    }
   ],
   "source": [
    "science_roles = cast[cast['character'].str.startswith('Science')]\n",
    "\n",
    "# Count the occurrences of each unique character name\n",
    "science_roles_counts = science_roles['character'].value_counts()\n",
    "\n",
    "# Get the top 10 character names\n",
    "top_10_science_roles = science_roles_counts.head(10)\n",
    "\n",
    "print(\"Top 10 roles that start with 'Science':\")\n",
    "print(top_10_science_roles)"
   ]
  },
  {
   "cell_type": "markdown",
   "id": "7e37caf3",
   "metadata": {},
   "source": [
    "### 16. What film has the largest cast"
   ]
  },
  {
   "cell_type": "code",
   "execution_count": 92,
   "id": "ffcb253e",
   "metadata": {},
   "outputs": [
    {
     "data": {
      "text/plain": [
       "'Around the World in 80 Days'"
      ]
     },
     "execution_count": 92,
     "metadata": {},
     "output_type": "execute_result"
    }
   ],
   "source": [
    "cast.groupby('title')['name'].nunique().idxmax()"
   ]
  },
  {
   "cell_type": "markdown",
   "id": "3a1a26ba",
   "metadata": {},
   "source": [
    "### 17. Generate descriptive statistics for cast size. Briefly comment on the results"
   ]
  },
  {
   "cell_type": "code",
   "execution_count": 93,
   "id": "b0592c92",
   "metadata": {},
   "outputs": [
    {
     "data": {
      "text/plain": [
       "count    168255.000000\n",
       "mean         20.115771\n",
       "std          23.607902\n",
       "min           1.000000\n",
       "25%           6.000000\n",
       "50%          13.000000\n",
       "75%          26.000000\n",
       "max        1363.000000\n",
       "Name: name, dtype: float64"
      ]
     },
     "execution_count": 93,
     "metadata": {},
     "output_type": "execute_result"
    }
   ],
   "source": [
    "cast.groupby('title')['name'].nunique().describe()"
   ]
  },
  {
   "cell_type": "markdown",
   "id": "dbce64e8",
   "metadata": {},
   "source": [
    "The average cast size across all films is approximately 20.12, with astandard deviation of approximately 23.61, which indicates a considerable variability in cast sizes. This suggests that there is a wide range of cast sizes across the dataset, with some films having very large casts and others having relatively small casts.The median cast size (50th percentile) of 13 is smaller than the mean of 20.12, indicating that the distribution of cast sizes may be right-skewed, with some films having much larger casts, thus pulling the mean higher."
   ]
  },
  {
   "cell_type": "markdown",
   "id": "57885f86",
   "metadata": {},
   "source": [
    "### 18. How many films has Natalie Portman been in in each year throughout her career?"
   ]
  },
  {
   "cell_type": "code",
   "execution_count": 96,
   "id": "5128c1c6",
   "metadata": {},
   "outputs": [
    {
     "data": {
      "text/plain": [
       "year\n",
       "1995    1\n",
       "1996    3\n",
       "1999    3\n",
       "2000    1\n",
       "2001    1\n",
       "2002    1\n",
       "2003    1\n",
       "2004    2\n",
       "2005    4\n",
       "2006    2\n",
       "2007    3\n",
       "2008    1\n",
       "2009    2\n",
       "2010    4\n",
       "2011    3\n",
       "2013    1\n",
       "2015    4\n",
       "2016    3\n",
       "2017    1\n",
       "dtype: int64"
      ]
     },
     "execution_count": 96,
     "metadata": {},
     "output_type": "execute_result"
    }
   ],
   "source": [
    "cast[cast['name'] == 'Natalie Portman'].groupby('year').size()"
   ]
  },
  {
   "cell_type": "markdown",
   "id": "1bff19c5",
   "metadata": {},
   "source": [
    "### 19. How many films did Natalie Portman appear in each year where where she was either the top star or co-star?"
   ]
  },
  {
   "cell_type": "code",
   "execution_count": 97,
   "id": "e2f4d043",
   "metadata": {},
   "outputs": [
    {
     "data": {
      "text/plain": [
       "year\n",
       "1999    1\n",
       "2000    1\n",
       "2002    1\n",
       "2005    3\n",
       "2006    2\n",
       "2007    1\n",
       "2008    1\n",
       "2009    1\n",
       "2010    2\n",
       "2011    2\n",
       "2013    1\n",
       "2015    2\n",
       "2016    2\n",
       "dtype: int64"
      ]
     },
     "execution_count": 97,
     "metadata": {},
     "output_type": "execute_result"
    }
   ],
   "source": [
    "cast[(cast['name'] == 'Natalie Portman') & ((cast['n'] == 1) | (cast['n'] == 2))].groupby('year').size()"
   ]
  },
  {
   "cell_type": "markdown",
   "id": "8eda704b",
   "metadata": {},
   "source": [
    "### 20. Determine how many roles for actor or actress by decade. Plot the output "
   ]
  },
  {
   "cell_type": "code",
   "execution_count": 98,
   "id": "6abd6fe1",
   "metadata": {},
   "outputs": [
    {
     "data": {
      "image/png": "[encoded data removed]",
      "text/plain": [
       "<Figure size 720x432 with 1 Axes>"
      ]
     },
     "metadata": {
      "needs_background": "light"
     },
     "output_type": "display_data"
    }
   ],
   "source": [
    "# Filter the dataframe for entries corresponding to actor/actress roles\n",
    "actor_actress_roles = cast[(cast['type'] == 'actor') | (cast['type'] == 'actress')]\n",
    "\n",
    "# Define a function to categorize the decade based on the year\n",
    "def categorize_decade(year):\n",
    "    return (year // 10) * 10\n",
    "\n",
    "# Apply the function to create a new column 'decade' representing the decade\n",
    "actor_actress_roles['decade'] = actor_actress_roles['year'].apply(categorize_decade)\n",
    "\n",
    "# Group the data by decade and count the number of roles\n",
    "roles_by_decade = actor_actress_roles.groupby(['decade', 'type']).size().unstack()\n",
    "\n",
    "# Plot the output\n",
    "roles_by_decade.plot(kind='bar', stacked=True, figsize=(10, 6))\n",
    "plt.title('Number of Roles for Actors and Actresses by Decade')\n",
    "plt.xlabel('Decade')\n",
    "plt.ylabel('Number of Roles')\n",
    "plt.xticks(rotation=45)\n",
    "plt.legend(title='Type', labels=['Actor', 'Actress'])\n",
    "plt.grid(axis='y')\n",
    "plt.show()"
   ]
  },
  {
   "cell_type": "markdown",
   "id": "fffe663b",
   "metadata": {},
   "source": [
    "### 21. Determine and comment on the day of the week that movies are released. What is notable about release days and months throughout the year? (Use pd.pivot_table)"
   ]
  },
  {
   "cell_type": "code",
   "execution_count": 100,
   "id": "5d3f6e03",
   "metadata": {},
   "outputs": [
    {
     "name": "stdout",
     "output_type": "stream",
     "text": [
      "Release Day and Month Summary:\n",
      "month        January  February  March  April    May   June   July  August  \\\n",
      "day_of_week                                                                 \n",
      "Friday         13734     13833  15268  13559  13198  11997  11635   13430   \n",
      "Monday          3699      3138   3383   3168   3050   2337   2267    2844   \n",
      "Saturday        2925      2395   2742   2868   2270   2409   2291    2277   \n",
      "Sunday          1822      1277   1228   1358   1165   1031    894    1138   \n",
      "Thursday       10746     10356  11844  10625  10100   9469   8947    9931   \n",
      "Tuesday         1823      1190   1313   1446   1377   1179   1144    1121   \n",
      "Wednesday       4663      4118   4479   4650   4289   4282   4243    4270   \n",
      "\n",
      "month        September  October  November  December  \n",
      "day_of_week                                          \n",
      "Friday           14523    14893     14084     13020  \n",
      "Monday            3161     3551      3372      3240  \n",
      "Saturday          2551     2700      2547      3357  \n",
      "Sunday            1332     1423      1342      1813  \n",
      "Thursday         10713    11490     10859     10666  \n",
      "Tuesday           1309     1542      1415      1903  \n",
      "Wednesday         4161     4605      4582      5097  \n"
     ]
    }
   ],
   "source": [
    "dates['date'] = pd.to_datetime(dates['date'])\n",
    "\n",
    "# Extract the day of the week and month from the 'date' column\n",
    "dates['day_of_week'] = dates['date'].dt.day_name()\n",
    "dates['month'] = dates['date'].dt.month_name()\n",
    "\n",
    "# Create a pivot table to summarize the data\n",
    "release_summary = pd.pivot_table(dates, index='day_of_week', columns='month', aggfunc='size', fill_value=0)\n",
    "\n",
    "# Rearrange columns for better visualization\n",
    "release_summary = release_summary[['January', 'February', 'March', 'April', 'May', 'June', \n",
    "                                   'July', 'August', 'September', 'October', 'November', 'December']]\n",
    "\n",
    "# Print the pivot table\n",
    "print(\"Release Day and Month Summary:\")\n",
    "print(release_summary)"
   ]
  },
  {
   "cell_type": "markdown",
   "id": "ff2eaf35",
   "metadata": {},
   "source": [
    "The pivot table shows the distribution of movie releases across days of the week. Typically, movies are released more frequently on Fridays, followed by Thursdays. This pattern aligns with the practice of releasing movies towards the end of the week to capitalize on weekend box office revenues. The distribution of movie releases across months varies, with certain months having higher numbers of releases than others. March and October have a higher number of movie releases compared to other months."
   ]
  },
  {
   "cell_type": "markdown",
   "id": "88b4b805",
   "metadata": {},
   "source": [
    "### 22. Can you plot the pivot table? Is the output \"correct\"? Can you fix it?"
   ]
  },
  {
   "cell_type": "code",
   "execution_count": 102,
   "id": "07152c8b",
   "metadata": {},
   "outputs": [
    {
     "data": {
      "image/png": "[encoded data removed]",
      "text/plain": [
       "<Figure size 1008x432 with 1 Axes>"
      ]
     },
     "metadata": {
      "needs_background": "light"
     },
     "output_type": "display_data"
    }
   ],
   "source": [
    "release_summary.plot(kind='bar', figsize=(14, 6))\n",
    "plt.title('Distribution of Movie Releases by Day of the Week and Month')\n",
    "plt.xlabel('Day of the Week')\n",
    "plt.ylabel('Number of Releases')\n",
    "plt.xticks(rotation=45)\n",
    "plt.legend(title='Month')\n",
    "plt.grid(axis='y')\n",
    "plt.show()"
   ]
  },
  {
   "cell_type": "markdown",
   "id": "19fc8bc4",
   "metadata": {},
   "source": [
    "### 23. What films did actors in Star Wars go on to appear in? "
   ]
  },
  {
   "cell_type": "code",
   "execution_count": 112,
   "id": "c069ae07",
   "metadata": {},
   "outputs": [],
   "source": [
    "star_wars_actors = cast[cast['title'].str.contains('Star Wars', case=False)]['name'].unique()"
   ]
  },
  {
   "cell_type": "code",
   "execution_count": 113,
   "id": "35e5f456",
   "metadata": {},
   "outputs": [],
   "source": [
    "other_films = cast[cast['name'].isin(star_wars_actors) & ~cast['title'].str.contains('Star Wars', case=False)]"
   ]
  },
  {
   "cell_type": "code",
   "execution_count": 114,
   "id": "2de76e6c",
   "metadata": {},
   "outputs": [
    {
     "name": "stdout",
     "output_type": "stream",
     "text": [
      "['Addams Family Values' 'Blasphemy the Movie' 'Chromiumblue.com' ...\n",
      " 'Enemies Closer' 'Stranded Pearl' 'The Crop']\n"
     ]
    }
   ],
   "source": [
    "print(other_films['title'].unique())"
   ]
  }
 ],
 "metadata": {
  "kernelspec": {
   "display_name": "Python 3 (ipykernel)",
   "language": "python",
   "name": "python3"
  },
  "language_info": {
   "codemirror_mode": {
    "name": "ipython",
    "version": 3
   },
   "file_extension": ".py",
   "mimetype": "text/x-python",
   "name": "python",
   "nbconvert_exporter": "python",
   "pygments_lexer": "ipython3",
   "version": "3.9.12"
  }
 },
 "nbformat": 4,
 "nbformat_minor": 5
}
